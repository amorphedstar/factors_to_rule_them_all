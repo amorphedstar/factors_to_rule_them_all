{
 "cells": [
  {
   "cell_type": "code",
   "execution_count": 1,
   "metadata": {},
   "outputs": [
    {
     "name": "stdout",
     "output_type": "stream",
     "text": [
      "Defaulting to user installation because normal site-packages is not writeable\n",
      "Requirement already satisfied: primefac in /home/t/.local/lib/python3.10/site-packages (2.0.12)\n",
      "Requirement already satisfied: multiprocess in /home/t/.local/lib/python3.10/site-packages (0.70.14)\n",
      "Requirement already satisfied: dill>=0.3.6 in /home/t/.local/lib/python3.10/site-packages (from multiprocess) (0.3.6)\n"
     ]
    }
   ],
   "source": [
    "!pip install primefac multiprocess\n",
    "import primefac\n",
    "import multiprocess\n",
    "import collections\n",
    "from timeout import Timeout\n",
    "import itertools\n",
    "import operator\n",
    "import functools\n",
    "import random\n",
    "import subprocess\n",
    "import sys\n",
    "import os\n",
    "import math\n",
    "try:\n",
    "  sys.set_int_max_str_digits(13000)\n",
    "except:\n",
    "  pass"
   ]
  },
  {
   "cell_type": "code",
   "execution_count": 2,
   "metadata": {},
   "outputs": [],
   "source": [
    "a,b=1,1\n",
    "x,y=[1],[1]\n",
    "for _ in range(10000):\n",
    "  a,b=8*a+7*b,9*a+8*b\n",
    "  x.append(a)\n",
    "  y.append(b)\n",
    "a_list=x.copy()\n",
    "b_list=y.copy()"
   ]
  },
  {
   "cell_type": "code",
   "execution_count": 3,
   "metadata": {},
   "outputs": [],
   "source": [
    "def read_primes():\n",
    "  with open('primes.txt', 'r') as file:\n",
    "    primes = set(map(int, file.read().split()))\n",
    "  # print('read', len(primes), 'primes')\n",
    "  return primes\n",
    "def write_primes(primes):\n",
    "  for filename in ['primes.txt', 'new_primes.txt']:\n",
    "    with open(filename, 'a') as file:\n",
    "      file.write('\\n'.join([str(val) for val in sorted(primes)])+'\\n')\n",
    "  print(f'added {len(primes)} primes\\n', end='', flush=True)\n",
    "def rewrite_primes(primes, verbose=False):\n",
    "  with open('primes.txt', 'w') as file:\n",
    "    file.write('\\n'.join([str(val) for val in sorted(primes)])+'\\n')\n",
    "  if verbose:\n",
    "    print(f'rewrote {len(primes)} primes\\n', end='', flush=True)\n",
    "def syncprimes(primes):\n",
    "  ops = read_primes()\n",
    "  df = set(primes).difference(ops)\n",
    "  if df:\n",
    "    write_primes(df)\n"
   ]
  },
  {
   "cell_type": "code",
   "execution_count": 4,
   "metadata": {},
   "outputs": [],
   "source": [
    "def read_factors():\n",
    "  with open('factors.txt', 'r') as file:\n",
    "    all_factors = [[int(numstr) for numstr in line.split(',')[1:]] for line in file.read().split()]\n",
    "  return all_factors[:10001],all_factors[10001:]\n",
    "def rewrite_factors(a_factors,b_factors, verbose=False):\n",
    "  with open('factors.txt', 'w') as file:\n",
    "    file.write('\\n'.join([','.join([str(i)]+list(map(str, sorted(factors[i])))) for factors in [a_factors,b_factors] for i in range(len(factors))])+'\\n')\n",
    "  if verbose:\n",
    "    print('rewrote factors')\n",
    "def sync_factors(primes, a_factors, b_factors):\n",
    "  for i in range(10001):\n",
    "    a = a_list[i]//functools.reduce(operator.mul, a_factors[i], 1)\n",
    "    b = b_list[i]//functools.reduce(operator.mul, b_factors[i], 1)\n",
    "    x[i],y[i] = a,b\n",
    "    for v,vf,arr in [(a,a_factors,x), (b,b_factors,y)]:\n",
    "      if v==1: continue\n",
    "      for p in primes:\n",
    "        if v%p: continue\n",
    "        while v%p == 0:\n",
    "          v //= p\n",
    "          arr[i] //= p\n",
    "          vf[i].append(p)\n",
    "        if v == 1: break\n",
    "        if v in primes:\n",
    "          vf[i].append(v)\n",
    "          arr[i] //= v\n",
    "          v //= v\n",
    "          break\n",
    "def sync_factors_at_indices(primes, indices, a_factors, b_factors):\n",
    "  for p, i in zip(primes, indices):\n",
    "    a = a_list[i]//functools.reduce(operator.mul, a_factors[i], 1)\n",
    "    b = b_list[i]//functools.reduce(operator.mul, b_factors[i], 1)\n",
    "    x[i],y[i] = a,b\n",
    "    for v,vf,arr in [(a,a_factors,x), (b,b_factors,y)]:\n",
    "      if v==1: continue\n",
    "      if v%p: continue\n",
    "      while v%p == 0:\n",
    "        v //= p\n",
    "        arr[i] //= p\n",
    "        vf[i].append(p)\n",
    "      if v == 1: break\n",
    "      if v in primes:\n",
    "        vf[i].append(v)\n",
    "        arr[i] //= v\n",
    "        v //= v\n",
    "        break"
   ]
  },
  {
   "cell_type": "code",
   "execution_count": 5,
   "metadata": {},
   "outputs": [],
   "source": [
    "a_factors,b_factors = read_factors()\n",
    "primes = read_primes()\n",
    "checked_primes = primes.copy()\n",
    "invalis = set([1,2,6])\n",
    "valps = set([0,1,2,4])\n",
    "negis = set()\n",
    "posis = set()\n",
    "ff = set()"
   ]
  },
  {
   "cell_type": "code",
   "execution_count": 6,
   "metadata": {},
   "outputs": [],
   "source": [
    "def sync_new_factors(verbose=False):\n",
    "  with open('new_primes.txt', 'r') as file:\n",
    "    new_primes = set(map(int, file.read().split()))\n",
    "  new_primes = [p for p in new_primes if primefac.isprime(p)]\n",
    "  sync_factors(new_primes, a_factors, b_factors)\n",
    "  rewrite_factors(a_factors,b_factors, verbose)\n",
    "  with open('new_primes.txt', 'w') as file:\n",
    "    file.write('')"
   ]
  },
  {
   "cell_type": "code",
   "execution_count": 7,
   "metadata": {},
   "outputs": [],
   "source": [
    "# for i in range(10001):\n",
    "#   for af in a_factors[i]:\n",
    "#     while x[i]%af == 0:\n",
    "#       x[i] //= af\n",
    "#   for bf in b_factors[i]:\n",
    "#     while y[i]%bf == 0:\n",
    "#       y[i] //= bf"
   ]
  },
  {
   "cell_type": "code",
   "execution_count": 8,
   "metadata": {},
   "outputs": [],
   "source": [
    "# for i,v in enumerate(x):\n",
    "#   if i%200 == 0:\n",
    "#     print(i)\n",
    "#   if v != 1:\n",
    "#     if primefac.isprime(v) and v not in primes:\n",
    "#       print(i, v)\n",
    "#       syncprimes([v])\n",
    "#     # for p in primes:\n",
    "#     #   while v%p==0:\n",
    "#     #     print(v,p)\n",
    "#     #     v //= p\n"
   ]
  },
  {
   "cell_type": "code",
   "execution_count": 9,
   "metadata": {},
   "outputs": [],
   "source": [
    "sync_new_factors()"
   ]
  },
  {
   "cell_type": "code",
   "execution_count": 10,
   "metadata": {},
   "outputs": [
    {
     "name": "stdout",
     "output_type": "stream",
     "text": [
      "True\n"
     ]
    }
   ],
   "source": [
    "dd = collections.Counter([i for v in [a_factors,b_factors] for r in v for i in r])\n",
    "# print(dd)\n",
    "\n",
    "ddwr = collections.Counter([i for v in [a_factors,b_factors] for r in v for i in set(r)])\n",
    "# print(sorted([(v,k) for k,v in ddwr.items()])[::-1])\n",
    "\n",
    "ddcwr = collections.Counter([i for av,bv in zip(a_factors,b_factors) for i in set(av).union(bv)])\n",
    "print(ddcwr==ddwr)"
   ]
  },
  {
   "cell_type": "code",
   "execution_count": 11,
   "metadata": {},
   "outputs": [],
   "source": [
    "def factor_with_timeout(i, num, timeout, ps, name, es=True):\n",
    "  ev = False\n",
    "  try:\n",
    "    with Timeout(timeout):\n",
    "      while not (ev and es) and num>1:\n",
    "        p = primefac.ecm(num)\n",
    "        print(f'{name}{i} p {p}\\n', end='', flush=True)\n",
    "        syncprimes([p])\n",
    "        num //= p\n",
    "        ps.append(p)\n",
    "        if p%7 not in valps:\n",
    "          ev=(True, False, str(p)+' | '+name)\n",
    "          negis.add(i)\n",
    "          break\n",
    "\n",
    "  except Timeout.Timeout:\n",
    "    pass\n",
    "  return num, ev"
   ]
  },
  {
   "cell_type": "code",
   "execution_count": 12,
   "metadata": {},
   "outputs": [],
   "source": [
    "def chk(i, ecmtimes, primes, es=True, recheck=False):\n",
    "  if es and i%7 in invalis:\n",
    "    negis.add(i)\n",
    "    return (True, False, 'invalid i')\n",
    "  if es and i in negis:\n",
    "    return (True, False, 'prev result')\n",
    "  if es and i in posis:\n",
    "    return (True, True, 'prev result')\n",
    "  aps, bps = [], []\n",
    "  ev = False\n",
    "  # if es:\n",
    "  #   a,b = x[i],y[i]\n",
    "  # else:\n",
    "  a,b = a_list[i], b_list[i]\n",
    "  for p in a_factors[i]:\n",
    "    while a%p == 0:\n",
    "      a //= p\n",
    "      aps.append(p)\n",
    "      if p%7 not in valps:\n",
    "        ev=(True, False, str(p)+' | a')\n",
    "        negis.add(i)\n",
    "        if es: break\n",
    "    if (ev and es) or a==1: break\n",
    "\n",
    "  for p in b_factors[i]:\n",
    "    while b%p == 0:\n",
    "      b //= p\n",
    "      bps.append(p)\n",
    "      if p%7 not in valps:\n",
    "        ev=(True, False, str(p)+' | b')\n",
    "        negis.add(i)\n",
    "        if es: break\n",
    "    if (ev and es) or b==1: break\n",
    "  \n",
    "  if (a==1 and b==1):\n",
    "    posis.add(i)\n",
    "    return (True, True, 'a='+'*'.join(map(str,aps))+'\\nb='+'*'.join(map(str,bps)))\n",
    "\n",
    "  if recheck:\n",
    "    return\n",
    "\n",
    "  if not (ev and es) and (a > 1 or b > 1):\n",
    "    if ecmtimes: print(f'starting: {i}\\n', end='', flush=True)\n",
    "    for timeout in ecmtimes:\n",
    "      # print('t=',timeout, end=' ',sep='')\n",
    "      a,nev = factor_with_timeout(i,a,timeout,aps,'a',es)\n",
    "      ev = nev if not ev else ev\n",
    "      \n",
    "      if (ev and es) or (a==1 and b==1):\n",
    "        break\n",
    "\n",
    "      b,nev = factor_with_timeout(i,b,timeout,bps,'b',es)\n",
    "      ev = nev if not ev else ev\n",
    "      \n",
    "      if (ev and es) or (a==1 and b==1):\n",
    "        break\n",
    "  \n",
    "  x[i], y[i] = a, b\n",
    "\n",
    "  if ev:\n",
    "    return ev\n",
    "\n",
    "  if (a==1 and b==1):\n",
    "    print(f\"Positive! {i} {aps} {bps}\\n\", end='', flush=True)\n",
    "    posis.add(i)\n",
    "    return (True, True, 'a='+'*'.join(map(str,aps))+'\\nb='+'*'.join(map(str,bps)))\n",
    "  else:\n",
    "    print(f\"Unknown: {i} {aps} {bps}\\n\", end='', flush=True)\n",
    "    return (False, False, (True, True, 'a='+'*'.join(map(str,aps))+'\\nb='+'*'.join(map(str,bps))))\n"
   ]
  },
  {
   "cell_type": "code",
   "execution_count": 13,
   "metadata": {},
   "outputs": [],
   "source": [
    "def zipr(rng):\n",
    "  return zip(rng,[x[i] for i in rng],[y[i] for i in rng])\n",
    "times = [1, 2, 4, 8, 16, 32, 64, 128, 256, 512, 1024, 2048, 4096, 8192, 16384, 32768]\n",
    "def sim_thread(v, es=True):\n",
    "  res = chk(v, times[8:11], read_primes(), es)\n",
    "  return res\n",
    "def sim_thread_full(v):\n",
    "  return sim_thread(v, es=False)\n"
   ]
  },
  {
   "cell_type": "code",
   "execution_count": 14,
   "metadata": {},
   "outputs": [],
   "source": [
    "def refill_negis(verbose=False):\n",
    "  for ecmtimes in [[]]:# + [[t] for t in times]:\n",
    "    for i in range(10001):\n",
    "      chk(i,ecmtimes,primes,recheck=not verbose)\n",
    "  if verbose:\n",
    "    print(len(set(range(10001)).difference(negis).difference(posis)),posis)\n",
    "    print([len([i for i in range(idx*1000,idx*1000+1000) if i not in negis|posis]) for idx in range(10)])\n",
    "refill_negis()"
   ]
  },
  {
   "cell_type": "code",
   "execution_count": 15,
   "metadata": {},
   "outputs": [],
   "source": [
    "def sync_check_primes(primes, verbose=False):\n",
    "  # print(len(primes))\n",
    "  primes = primes.union([])\n",
    "  syncprimes(primes)\n",
    "  primes = read_primes()\n",
    "  for p in list(primes):\n",
    "    if p not in checked_primes and not primefac.isprime(p):\n",
    "      print('NOT PRIME!:', p)\n",
    "      primes.remove(p)\n",
    "  rewrite_primes(primes, verbose)\n",
    "  return primes\n",
    "def resync_all(primes, verbose=False):\n",
    "  if verbose:\n",
    "    print(len(primes))\n",
    "  primes = sync_check_primes(primes, verbose)\n",
    "  sync_new_factors(verbose)\n",
    "  refill_negis(verbose)\n",
    "  return primes\n",
    "primes = resync_all(primes)"
   ]
  },
  {
   "cell_type": "code",
   "execution_count": 16,
   "metadata": {},
   "outputs": [],
   "source": [
    "for i in range(10001):\n",
    "  if divmod(a_list[i],functools.reduce(operator.mul, a_factors[i], 1))!=(x[i],0):\n",
    "    print(i)\n",
    "  if divmod(b_list[i],functools.reduce(operator.mul, b_factors[i], 1))!=(y[i],0):\n",
    "    print(i)"
   ]
  },
  {
   "cell_type": "code",
   "execution_count": 17,
   "metadata": {},
   "outputs": [
    {
     "data": {
      "text/plain": [
       "[]"
      ]
     },
     "execution_count": 17,
     "metadata": {},
     "output_type": "execute_result"
    }
   ],
   "source": [
    "pool = multiprocess.Pool(6)\n",
    "outs = pool.map(sim_thread, set(range(200,320)).difference(negis))\n",
    "outs"
   ]
  },
  {
   "cell_type": "code",
   "execution_count": 18,
   "metadata": {},
   "outputs": [
    {
     "data": {
      "text/plain": [
       "[]"
      ]
     },
     "execution_count": 18,
     "metadata": {},
     "output_type": "execute_result"
    }
   ],
   "source": [
    "pool = multiprocess.Pool(4)\n",
    "outs = pool.map(sim_thread_full, range(100))\n",
    "[o for o in outs if not o[0]]"
   ]
  },
  {
   "cell_type": "code",
   "execution_count": 19,
   "metadata": {},
   "outputs": [],
   "source": [
    "# pool = multiprocess.Pool(10)\n",
    "# outs = pool.map(sim_thread, random.sample(list(range(4001,10001)),10000))"
   ]
  },
  {
   "cell_type": "code",
   "execution_count": 20,
   "metadata": {},
   "outputs": [],
   "source": [
    "primes = resync_all(primes)"
   ]
  },
  {
   "cell_type": "code",
   "execution_count": 21,
   "metadata": {},
   "outputs": [],
   "source": [
    "# pool = multiprocess.Pool(4)\n",
    "# outs = pool.map(sim_thread, random.sample(list(range(5000,10001)),5001))"
   ]
  },
  {
   "cell_type": "code",
   "execution_count": 22,
   "metadata": {},
   "outputs": [
    {
     "name": "stdout",
     "output_type": "stream",
     "text": [
      "20\n"
     ]
    },
    {
     "data": {
      "text/plain": [
       "[320,\n",
       " 495,\n",
       " 530,\n",
       " 543,\n",
       " 761,\n",
       " 831,\n",
       " 938,\n",
       " 1118,\n",
       " 1188,\n",
       " 1251,\n",
       " 1355,\n",
       " 1383,\n",
       " 1400,\n",
       " 1404,\n",
       " 1505,\n",
       " 1650,\n",
       " 1664,\n",
       " 1685,\n",
       " 1790,\n",
       " 1923]"
      ]
     },
     "execution_count": 22,
     "metadata": {},
     "output_type": "execute_result"
    }
   ],
   "source": [
    "todo = set(range(2001)).difference(negis).difference(posis)\n",
    "print(len(todo))\n",
    "sorted(todo)"
   ]
  },
  {
   "cell_type": "code",
   "execution_count": 23,
   "metadata": {},
   "outputs": [],
   "source": [
    "for i in range(100):\n",
    "  if x[i] != 1:\n",
    "    print(x[i])\n",
    "    s = subprocess.run(['../cado-nfs/cado-nfs.py', str(x[i])], capture_output=True)\n",
    "    print('=', s.stdout)\n",
    "    primes = primes.union(list(map(int, s.stdout.split())))\n",
    "  if y[i] != 1:\n",
    "    print(y[i])\n",
    "    s = subprocess.run(['../cado-nfs/cado-nfs.py', str(y[i])], capture_output=True)\n",
    "    print('=', s.stdout)\n",
    "    primes = resync_all(primes.union(list(map(int, s.stdout.split()))))\n"
   ]
  },
  {
   "cell_type": "code",
   "execution_count": 24,
   "metadata": {},
   "outputs": [
    {
     "name": "stdout",
     "output_type": "stream",
     "text": [
      "Starting at 3664956817\n",
      "3664956817\n"
     ]
    }
   ],
   "source": [
    "try:\n",
    "  inlist = []\n",
    "  nfac = 2*3*5*7*11*13*17*19*23*29\n",
    "  with open('last_checked.txt', 'r') as file:\n",
    "    last_checked = int(file.read())\n",
    "  p = last_checked\n",
    "  print(f'Starting at {last_checked}')\n",
    "  for p in range(last_checked,last_checked-1000000000):\n",
    "    if p in primes or math.gcd(nfac,p) != 1 or not primefac.isprime(p):\n",
    "      continue\n",
    "    aa,bb = 1,1\n",
    "    i = 0\n",
    "    while aa*bb and i < 10000:\n",
    "      i += 1\n",
    "      aa,bb = (8*aa+7*bb)%p, (9*aa+8*bb)%p\n",
    "    if (not aa*bb):\n",
    "      print(\" \" if i in negis else \"!\", i, p)\n",
    "      inlist.append(p)\n",
    "      if len(inlist):\n",
    "        primes = resync_all(primes.union(inlist))\n",
    "        inlist = []\n",
    "\n",
    "      # sync_factors_at_indices(p, range(i,10002,i*2+1), b_factors)\n",
    "      # rewrite_factors(a_factors,b_factors)\n",
    "\n",
    "  if inlist:\n",
    "    primes = resync_all(primes.union(inlist))\n",
    "    inlist = []\n",
    "  print(p)\n",
    "except:\n",
    "  if inlist:\n",
    "    primes = resync_all(primes.union(inlist))\n",
    "    inlist = []\n",
    "  print(p)\n",
    "  with open('last_checked.txt', 'w') as file:\n",
    "    file.write(str(p))"
   ]
  },
  {
   "cell_type": "code",
   "execution_count": 25,
   "metadata": {},
   "outputs": [],
   "source": [
    "# for i in range(10001):\n",
    "#   if i in negis: continue\n",
    "#   if a_factors[i] and primefac.isprime(x[i]):\n",
    "#     print('a',x[i])\n",
    "#   if b_factors[i] and primefac.isprime(y[i]):\n",
    "#     print('b',y[i])\n",
    "#   print(f'done {i}', flush=True)"
   ]
  },
  {
   "cell_type": "code",
   "execution_count": 26,
   "metadata": {},
   "outputs": [
    {
     "data": {
      "text/plain": [
       "289"
      ]
     },
     "execution_count": 26,
     "metadata": {},
     "output_type": "execute_result"
    }
   ],
   "source": [
    "len(set(range(10001)).difference(negis|posis))"
   ]
  },
  {
   "cell_type": "code",
   "execution_count": 27,
   "metadata": {},
   "outputs": [
    {
     "data": {
      "text/plain": [
       "{2328,\n",
       " 2391,\n",
       " 2406,\n",
       " 2538,\n",
       " 2553,\n",
       " 2618,\n",
       " 2636,\n",
       " 2765,\n",
       " 2889,\n",
       " 2930,\n",
       " 2940,\n",
       " 3045,\n",
       " 3171,\n",
       " 3344}"
      ]
     },
     "execution_count": 27,
     "metadata": {},
     "output_type": "execute_result"
    }
   ],
   "source": [
    "set(range(2000,3400)).difference(negis)"
   ]
  }
 ],
 "metadata": {
  "kernelspec": {
   "display_name": "Python 3",
   "language": "python",
   "name": "python3"
  },
  "language_info": {
   "codemirror_mode": {
    "name": "ipython",
    "version": 3
   },
   "file_extension": ".py",
   "mimetype": "text/x-python",
   "name": "python",
   "nbconvert_exporter": "python",
   "pygments_lexer": "ipython3",
   "version": "3.10.6"
  },
  "orig_nbformat": 4,
  "vscode": {
   "interpreter": {
    "hash": "e7370f93d1d0cde622a1f8e1c04877d8463912d04d973331ad4851f04de6915a"
   }
  }
 },
 "nbformat": 4,
 "nbformat_minor": 2
}
